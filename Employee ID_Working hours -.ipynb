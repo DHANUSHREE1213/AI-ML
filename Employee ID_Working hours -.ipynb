{
 "cells": [
  {
   "cell_type": "code",
   "execution_count": 1,
   "id": "512dc47e-9140-46c7-a0bc-93e4eecc4a8c",
   "metadata": {},
   "outputs": [],
   "source": [
    "import numpy as np"
   ]
  },
  {
   "cell_type": "code",
   "execution_count": 2,
   "id": "8f84af88-2565-4486-ad5a-1fc14a3c7696",
   "metadata": {},
   "outputs": [],
   "source": [
    "import pandas as pd"
   ]
  },
  {
   "cell_type": "code",
   "execution_count": 3,
   "id": "217bffee-dd2a-4a2e-ae8b-5ea30ea27dc8",
   "metadata": {},
   "outputs": [],
   "source": [
    "np.random.seed(42)"
   ]
  },
  {
   "cell_type": "code",
   "execution_count": 6,
   "id": "def36192-9a47-4d56-b3d2-4f7e0bd9f176",
   "metadata": {},
   "outputs": [],
   "source": [
    "employee_ids =[f'EMP_{i:03d}' for i in range(1,31)]\n",
    "dates=pd.date_range(\"2025-07-01\",periods=30,freq=\"D\")"
   ]
  },
  {
   "cell_type": "code",
   "execution_count": 7,
   "id": "65acfec7-a99b-41cf-aa8e-39da942794c9",
   "metadata": {},
   "outputs": [
    {
     "data": {
      "text/plain": [
       "['EMP_001',\n",
       " 'EMP_002',\n",
       " 'EMP_003',\n",
       " 'EMP_004',\n",
       " 'EMP_005',\n",
       " 'EMP_006',\n",
       " 'EMP_007',\n",
       " 'EMP_008',\n",
       " 'EMP_009',\n",
       " 'EMP_010',\n",
       " 'EMP_011',\n",
       " 'EMP_012',\n",
       " 'EMP_013',\n",
       " 'EMP_014',\n",
       " 'EMP_015',\n",
       " 'EMP_016',\n",
       " 'EMP_017',\n",
       " 'EMP_018',\n",
       " 'EMP_019',\n",
       " 'EMP_020',\n",
       " 'EMP_021',\n",
       " 'EMP_022',\n",
       " 'EMP_023',\n",
       " 'EMP_024',\n",
       " 'EMP_025',\n",
       " 'EMP_026',\n",
       " 'EMP_027',\n",
       " 'EMP_028',\n",
       " 'EMP_029',\n",
       " 'EMP_030']"
      ]
     },
     "execution_count": 7,
     "metadata": {},
     "output_type": "execute_result"
    }
   ],
   "source": [
    "employee_ids"
   ]
  },
  {
   "cell_type": "code",
   "execution_count": 10,
   "id": "01edf549-6042-4fcd-90e4-5b045ff71cf4",
   "metadata": {},
   "outputs": [],
   "source": [
    "data={\n",
    "    \"Date\":np.tile(dates,len(employee_ids)),\n",
    "    \"Employee_ID\":np.repeat(employee_ids,len(dates)),\n",
    "    \"Working_Hours\":np.random.uniform(4,10,size=len(dates)*len(employee_ids)).round(2)\n",
    "\n",
    "}"
   ]
  },
  {
   "cell_type": "code",
   "execution_count": 15,
   "id": "6d2db30c-e1af-45d0-9478-fcaa82059409",
   "metadata": {},
   "outputs": [],
   "source": [
    "df=pd.DataFrame(data)"
   ]
  },
  {
   "cell_type": "code",
   "execution_count": 16,
   "id": "8340e80c-2b9c-4b14-be48-046dec8ef4d4",
   "metadata": {},
   "outputs": [
    {
     "data": {
      "text/html": [
       "<div>\n",
       "<style scoped>\n",
       "    .dataframe tbody tr th:only-of-type {\n",
       "        vertical-align: middle;\n",
       "    }\n",
       "\n",
       "    .dataframe tbody tr th {\n",
       "        vertical-align: top;\n",
       "    }\n",
       "\n",
       "    .dataframe thead th {\n",
       "        text-align: right;\n",
       "    }\n",
       "</style>\n",
       "<table border=\"1\" class=\"dataframe\">\n",
       "  <thead>\n",
       "    <tr style=\"text-align: right;\">\n",
       "      <th></th>\n",
       "      <th>Date</th>\n",
       "      <th>Employee_ID</th>\n",
       "      <th>Working_Hours</th>\n",
       "    </tr>\n",
       "  </thead>\n",
       "  <tbody>\n",
       "    <tr>\n",
       "      <th>0</th>\n",
       "      <td>2025-07-01</td>\n",
       "      <td>EMP_001</td>\n",
       "      <td>6.25</td>\n",
       "    </tr>\n",
       "    <tr>\n",
       "      <th>1</th>\n",
       "      <td>2025-07-02</td>\n",
       "      <td>EMP_001</td>\n",
       "      <td>9.70</td>\n",
       "    </tr>\n",
       "    <tr>\n",
       "      <th>2</th>\n",
       "      <td>2025-07-03</td>\n",
       "      <td>EMP_001</td>\n",
       "      <td>8.39</td>\n",
       "    </tr>\n",
       "    <tr>\n",
       "      <th>3</th>\n",
       "      <td>2025-07-04</td>\n",
       "      <td>EMP_001</td>\n",
       "      <td>7.59</td>\n",
       "    </tr>\n",
       "    <tr>\n",
       "      <th>4</th>\n",
       "      <td>2025-07-05</td>\n",
       "      <td>EMP_001</td>\n",
       "      <td>4.94</td>\n",
       "    </tr>\n",
       "    <tr>\n",
       "      <th>...</th>\n",
       "      <td>...</td>\n",
       "      <td>...</td>\n",
       "      <td>...</td>\n",
       "    </tr>\n",
       "    <tr>\n",
       "      <th>895</th>\n",
       "      <td>2025-07-26</td>\n",
       "      <td>EMP_030</td>\n",
       "      <td>5.23</td>\n",
       "    </tr>\n",
       "    <tr>\n",
       "      <th>896</th>\n",
       "      <td>2025-07-27</td>\n",
       "      <td>EMP_030</td>\n",
       "      <td>5.76</td>\n",
       "    </tr>\n",
       "    <tr>\n",
       "      <th>897</th>\n",
       "      <td>2025-07-28</td>\n",
       "      <td>EMP_030</td>\n",
       "      <td>9.38</td>\n",
       "    </tr>\n",
       "    <tr>\n",
       "      <th>898</th>\n",
       "      <td>2025-07-29</td>\n",
       "      <td>EMP_030</td>\n",
       "      <td>4.08</td>\n",
       "    </tr>\n",
       "    <tr>\n",
       "      <th>899</th>\n",
       "      <td>2025-07-30</td>\n",
       "      <td>EMP_030</td>\n",
       "      <td>4.51</td>\n",
       "    </tr>\n",
       "  </tbody>\n",
       "</table>\n",
       "<p>900 rows × 3 columns</p>\n",
       "</div>"
      ],
      "text/plain": [
       "          Date Employee_ID  Working_Hours\n",
       "0   2025-07-01     EMP_001           6.25\n",
       "1   2025-07-02     EMP_001           9.70\n",
       "2   2025-07-03     EMP_001           8.39\n",
       "3   2025-07-04     EMP_001           7.59\n",
       "4   2025-07-05     EMP_001           4.94\n",
       "..         ...         ...            ...\n",
       "895 2025-07-26     EMP_030           5.23\n",
       "896 2025-07-27     EMP_030           5.76\n",
       "897 2025-07-28     EMP_030           9.38\n",
       "898 2025-07-29     EMP_030           4.08\n",
       "899 2025-07-30     EMP_030           4.51\n",
       "\n",
       "[900 rows x 3 columns]"
      ]
     },
     "execution_count": 16,
     "metadata": {},
     "output_type": "execute_result"
    }
   ],
   "source": [
    "df"
   ]
  },
  {
   "cell_type": "code",
   "execution_count": 18,
   "id": "50fefc3f-fe36-4615-aa04-8d9cc9d61278",
   "metadata": {},
   "outputs": [],
   "source": [
    "df.to_csv(\"employee_working_hours.csv\",index=False)"
   ]
  },
  {
   "cell_type": "code",
   "execution_count": 19,
   "id": "296db13f-9b79-4ae2-8e03-fbd33c9ddb0a",
   "metadata": {},
   "outputs": [],
   "source": [
    "df_csv=pd.read_csv(\"employee_working_hours.csv\")"
   ]
  },
  {
   "cell_type": "code",
   "execution_count": 20,
   "id": "4be318f2-cdc0-4566-b69b-cf7e566a90ed",
   "metadata": {},
   "outputs": [
    {
     "data": {
      "text/html": [
       "<div>\n",
       "<style scoped>\n",
       "    .dataframe tbody tr th:only-of-type {\n",
       "        vertical-align: middle;\n",
       "    }\n",
       "\n",
       "    .dataframe tbody tr th {\n",
       "        vertical-align: top;\n",
       "    }\n",
       "\n",
       "    .dataframe thead th {\n",
       "        text-align: right;\n",
       "    }\n",
       "</style>\n",
       "<table border=\"1\" class=\"dataframe\">\n",
       "  <thead>\n",
       "    <tr style=\"text-align: right;\">\n",
       "      <th></th>\n",
       "      <th>Date</th>\n",
       "      <th>Employee_ID</th>\n",
       "      <th>Working_Hours</th>\n",
       "    </tr>\n",
       "  </thead>\n",
       "  <tbody>\n",
       "    <tr>\n",
       "      <th>0</th>\n",
       "      <td>2025-07-01</td>\n",
       "      <td>EMP_001</td>\n",
       "      <td>6.25</td>\n",
       "    </tr>\n",
       "    <tr>\n",
       "      <th>1</th>\n",
       "      <td>2025-07-02</td>\n",
       "      <td>EMP_001</td>\n",
       "      <td>9.70</td>\n",
       "    </tr>\n",
       "    <tr>\n",
       "      <th>2</th>\n",
       "      <td>2025-07-03</td>\n",
       "      <td>EMP_001</td>\n",
       "      <td>8.39</td>\n",
       "    </tr>\n",
       "    <tr>\n",
       "      <th>3</th>\n",
       "      <td>2025-07-04</td>\n",
       "      <td>EMP_001</td>\n",
       "      <td>7.59</td>\n",
       "    </tr>\n",
       "    <tr>\n",
       "      <th>4</th>\n",
       "      <td>2025-07-05</td>\n",
       "      <td>EMP_001</td>\n",
       "      <td>4.94</td>\n",
       "    </tr>\n",
       "    <tr>\n",
       "      <th>...</th>\n",
       "      <td>...</td>\n",
       "      <td>...</td>\n",
       "      <td>...</td>\n",
       "    </tr>\n",
       "    <tr>\n",
       "      <th>895</th>\n",
       "      <td>2025-07-26</td>\n",
       "      <td>EMP_030</td>\n",
       "      <td>5.23</td>\n",
       "    </tr>\n",
       "    <tr>\n",
       "      <th>896</th>\n",
       "      <td>2025-07-27</td>\n",
       "      <td>EMP_030</td>\n",
       "      <td>5.76</td>\n",
       "    </tr>\n",
       "    <tr>\n",
       "      <th>897</th>\n",
       "      <td>2025-07-28</td>\n",
       "      <td>EMP_030</td>\n",
       "      <td>9.38</td>\n",
       "    </tr>\n",
       "    <tr>\n",
       "      <th>898</th>\n",
       "      <td>2025-07-29</td>\n",
       "      <td>EMP_030</td>\n",
       "      <td>4.08</td>\n",
       "    </tr>\n",
       "    <tr>\n",
       "      <th>899</th>\n",
       "      <td>2025-07-30</td>\n",
       "      <td>EMP_030</td>\n",
       "      <td>4.51</td>\n",
       "    </tr>\n",
       "  </tbody>\n",
       "</table>\n",
       "<p>900 rows × 3 columns</p>\n",
       "</div>"
      ],
      "text/plain": [
       "           Date Employee_ID  Working_Hours\n",
       "0    2025-07-01     EMP_001           6.25\n",
       "1    2025-07-02     EMP_001           9.70\n",
       "2    2025-07-03     EMP_001           8.39\n",
       "3    2025-07-04     EMP_001           7.59\n",
       "4    2025-07-05     EMP_001           4.94\n",
       "..          ...         ...            ...\n",
       "895  2025-07-26     EMP_030           5.23\n",
       "896  2025-07-27     EMP_030           5.76\n",
       "897  2025-07-28     EMP_030           9.38\n",
       "898  2025-07-29     EMP_030           4.08\n",
       "899  2025-07-30     EMP_030           4.51\n",
       "\n",
       "[900 rows x 3 columns]"
      ]
     },
     "execution_count": 20,
     "metadata": {},
     "output_type": "execute_result"
    }
   ],
   "source": [
    "df_csv"
   ]
  },
  {
   "cell_type": "code",
   "execution_count": 22,
   "id": "e68b14de-e586-4728-9299-f7502c79ac42",
   "metadata": {},
   "outputs": [
    {
     "name": "stdout",
     "output_type": "stream",
     "text": [
      "         Date Employee_ID  Working_Hours\n",
      "0  2025-07-01     EMP_001           6.25\n",
      "1  2025-07-02     EMP_001           9.70\n",
      "2  2025-07-03     EMP_001           8.39\n",
      "3  2025-07-04     EMP_001           7.59\n",
      "4  2025-07-05     EMP_001           4.94\n",
      "       Working_Hours\n",
      "count     900.000000\n",
      "mean        6.954233\n",
      "std         1.762088\n",
      "min         4.030000\n",
      "25%         5.387500\n",
      "50%         7.010000\n",
      "75%         8.490000\n",
      "max        10.000000\n",
      "30\n"
     ]
    }
   ],
   "source": [
    "print(df_csv.head())\n",
    "print(df_csv.describe())\n",
    "print(df_csv[\"Employee_ID\"].nunique())"
   ]
  },
  {
   "cell_type": "code",
   "execution_count": 23,
   "id": "22105a89-1ea2-4a43-a2b2-05e44c61926b",
   "metadata": {},
   "outputs": [
    {
     "name": "stdout",
     "output_type": "stream",
     "text": [
      "Employee_ID\n",
      "EMP_009    228.84\n",
      "EMP_018    226.10\n",
      "EMP_017    225.95\n",
      "EMP_014    224.92\n",
      "EMP_027    220.85\n",
      "EMP_025    214.07\n",
      "EMP_026    212.33\n",
      "EMP_016    211.56\n",
      "EMP_007    210.91\n",
      "EMP_010    210.88\n",
      "EMP_008    210.81\n",
      "EMP_011    210.77\n",
      "EMP_028    209.51\n",
      "EMP_019    209.42\n",
      "EMP_002    209.37\n",
      "EMP_004    208.46\n",
      "EMP_013    207.72\n",
      "EMP_003    206.79\n",
      "EMP_015    206.67\n",
      "EMP_024    204.46\n",
      "EMP_006    204.29\n",
      "EMP_023    203.64\n",
      "EMP_005    202.07\n",
      "EMP_022    200.73\n",
      "EMP_020    199.91\n",
      "EMP_029    199.89\n",
      "EMP_001    198.96\n",
      "EMP_012    196.52\n",
      "EMP_021    192.18\n",
      "EMP_030    190.23\n",
      "Name: Working_Hours, dtype: float64\n"
     ]
    }
   ],
   "source": [
    "total_hours=df_csv.groupby(\"Employee_ID\")[\"Working_Hours\"].sum().sort_values(ascending=False)\n",
    "print(total_hours)"
   ]
  },
  {
   "cell_type": "code",
   "execution_count": 26,
   "id": "52abc5a3-3327-45c3-a933-9b995dff909a",
   "metadata": {},
   "outputs": [],
   "source": [
    "avg_daily= df_csv.groupby(\"Employee_ID\") [\"Working_Hours\"].mean()"
   ]
  },
  {
   "cell_type": "code",
   "execution_count": 27,
   "id": "aaf7dfd3-e1fe-4bef-b5fc-c72bf00baf6c",
   "metadata": {},
   "outputs": [
    {
     "name": "stdout",
     "output_type": "stream",
     "text": [
      "         Date Employee_ID  Working_Hours  Low_Hour_Flag  High_Hour_Flag\n",
      "1  2025-07-02     EMP_001           9.70          False            True\n",
      "4  2025-07-05     EMP_001           4.94           True           False\n",
      "5  2025-07-06     EMP_001           4.94           True           False\n",
      "6  2025-07-07     EMP_001           4.35           True           False\n",
      "7  2025-07-08     EMP_001           9.20          False            True\n"
     ]
    }
   ],
   "source": [
    "threshold_low=5\n",
    "threshold_high=9\n",
    "df_csv[\"Low_Hour_Flag\"]=df_csv[\"Working_Hours\"]<threshold_low\n",
    "df_csv[\"High_Hour_Flag\"]=df_csv[\"Working_Hours\"]>threshold_high\n",
    "print(df_csv[df_csv[\"Low_Hour_Flag\"]|df_csv[\"High_Hour_Flag\"]].head())"
   ]
  },
  {
   "cell_type": "code",
   "execution_count": 28,
   "id": "6145f745-dfc4-4ab7-9b0e-d27261378ca7",
   "metadata": {},
   "outputs": [],
   "source": [
    "import seaborn as sns"
   ]
  },
  {
   "cell_type": "code",
   "execution_count": 29,
   "id": "c83e68c6-12a8-4c21-8cec-3d15137287f4",
   "metadata": {},
   "outputs": [],
   "source": [
    "import matplotlib.pyplot as plt"
   ]
  },
  {
   "cell_type": "code",
   "execution_count": 30,
   "id": "6b20af09-2719-41ca-a5a1-33bf7e021bfd",
   "metadata": {},
   "outputs": [
    {
     "data": {
      "image/png": "[encoded data removed]",
      "text/plain": [
       "<Figure size 1000x500 with 1 Axes>"
      ]
     },
     "metadata": {},
     "output_type": "display_data"
    }
   ],
   "source": [
    "top10=total_hours.head(10)\n",
    "plt.figure(figsize=(10,5))\n",
    "sns.barplot(x=top10.index,y=top10.values)\n",
    "plt.xticks(rotation=45)\n",
    "plt.title(\"Top 10 Employees By Total Working Hours\")\n",
    "plt.ylabel(\"Hours\")\n",
    "plt.tight_layout\n",
    "plt.show()"
   ]
  },
  {
   "cell_type": "code",
   "execution_count": 31,
   "id": "ad028dda-9afe-410b-9c52-b08f2dfce338",
   "metadata": {},
   "outputs": [],
   "source": [
    "Grades= df.loc[(df[\"Employee_ID\"]==\"EMP_023\")]"
   ]
  },
  {
   "cell_type": "code",
   "execution_count": 32,
   "id": "44e3a185-f225-47cd-8848-075601ae00e7",
   "metadata": {},
   "outputs": [
    {
     "name": "stdout",
     "output_type": "stream",
     "text": [
      "          Date Employee_ID  Working_Hours\n",
      "660 2025-07-01     EMP_023           6.14\n",
      "661 2025-07-02     EMP_023           9.92\n",
      "662 2025-07-03     EMP_023           7.63\n",
      "663 2025-07-04     EMP_023           5.42\n",
      "664 2025-07-05     EMP_023           4.61\n",
      "665 2025-07-06     EMP_023           4.92\n",
      "666 2025-07-07     EMP_023           5.48\n",
      "667 2025-07-08     EMP_023           4.96\n",
      "668 2025-07-09     EMP_023           5.12\n",
      "669 2025-07-10     EMP_023           5.71\n",
      "670 2025-07-11     EMP_023           5.04\n",
      "671 2025-07-12     EMP_023           9.38\n",
      "672 2025-07-13     EMP_023           4.48\n",
      "673 2025-07-14     EMP_023           7.15\n",
      "674 2025-07-15     EMP_023           6.46\n",
      "675 2025-07-16     EMP_023           9.89\n",
      "676 2025-07-17     EMP_023           4.67\n",
      "677 2025-07-18     EMP_023           6.39\n",
      "678 2025-07-19     EMP_023           9.82\n",
      "679 2025-07-20     EMP_023           9.19\n",
      "680 2025-07-21     EMP_023           8.90\n",
      "681 2025-07-22     EMP_023           5.55\n",
      "682 2025-07-23     EMP_023           5.03\n",
      "683 2025-07-24     EMP_023           8.01\n",
      "684 2025-07-25     EMP_023           9.58\n",
      "685 2025-07-26     EMP_023           7.34\n",
      "686 2025-07-27     EMP_023           7.43\n",
      "687 2025-07-28     EMP_023           5.68\n",
      "688 2025-07-29     EMP_023           8.62\n",
      "689 2025-07-30     EMP_023           5.12\n"
     ]
    }
   ],
   "source": [
    "print(Grades)"
   ]
  },
  {
   "cell_type": "code",
   "execution_count": null,
   "id": "87cd8e43-cfd0-4f68-8c00-29de18bab9f4",
   "metadata": {},
   "outputs": [],
   "source": []
  }
 ],
 "metadata": {
  "kernelspec": {
   "display_name": "Python 3 (ipykernel)",
   "language": "python",
   "name": "python3"
  },
  "language_info": {
   "codemirror_mode": {
    "name": "ipython",
    "version": 3
   },
   "file_extension": ".py",
   "mimetype": "text/x-python",
   "name": "python",
   "nbconvert_exporter": "python",
   "pygments_lexer": "ipython3",
   "version": "3.13.5"
  }
 },
 "nbformat": 4,
 "nbformat_minor": 5
}
